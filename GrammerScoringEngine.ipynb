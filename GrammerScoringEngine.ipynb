{
 "cells": [
  {
   "cell_type": "markdown",
   "id": "00b4bc83-bbaa-4a97-b315-9dea8b876168",
   "metadata": {},
   "source": [
    "# Grammar Scoring Engine\n",
    "# Predicting Grammar Score from Audio Data\n"
   ]
  },
  {
   "cell_type": "markdown",
   "id": "45f2c41f-3389-4996-a20c-ed4f8fcc0236",
   "metadata": {},
   "source": [
    "# Importing the libraries"
   ]
  },
  {
   "cell_type": "code",
   "execution_count": 119,
   "id": "8a821abc-9103-474e-bfaf-a4bd662f064c",
   "metadata": {},
   "outputs": [],
   "source": [
    "import numpy as np\n",
    "import pandas as pd\n",
    "import matplotlib.pyplot as plt\n",
    "import librosa\n",
    "from sklearn.model_selection import train_test_split\n",
    "from sklearn.ensemble import RandomForestRegressor\n",
    "from sklearn.metrics import mean_squared_error, mean_absolute_error\n",
    "from scipy.stats import pearsonr\n",
    "import warnings\n",
    "warnings.filterwarnings('ignore')\n"
   ]
  },
  {
   "cell_type": "markdown",
   "id": "7bcaec74-ca8b-43b2-b8aa-247c5c721d85",
   "metadata": {},
   "source": [
    "# Loading the Dataset"
   ]
  },
  {
   "cell_type": "code",
   "execution_count": 52,
   "id": "56d6faab-6783-474a-b6c1-6c5559e1b4dc",
   "metadata": {},
   "outputs": [
    {
     "name": "stdout",
     "output_type": "stream",
     "text": [
      "Train Set:\n"
     ]
    },
    {
     "data": {
      "text/html": [
       "<div>\n",
       "<style scoped>\n",
       "    .dataframe tbody tr th:only-of-type {\n",
       "        vertical-align: middle;\n",
       "    }\n",
       "\n",
       "    .dataframe tbody tr th {\n",
       "        vertical-align: top;\n",
       "    }\n",
       "\n",
       "    .dataframe thead th {\n",
       "        text-align: right;\n",
       "    }\n",
       "</style>\n",
       "<table border=\"1\" class=\"dataframe\">\n",
       "  <thead>\n",
       "    <tr style=\"text-align: right;\">\n",
       "      <th></th>\n",
       "      <th>filename</th>\n",
       "      <th>label</th>\n",
       "    </tr>\n",
       "  </thead>\n",
       "  <tbody>\n",
       "    <tr>\n",
       "      <th>0</th>\n",
       "      <td>audio_1261.wav</td>\n",
       "      <td>1.0</td>\n",
       "    </tr>\n",
       "    <tr>\n",
       "      <th>1</th>\n",
       "      <td>audio_942.wav</td>\n",
       "      <td>1.5</td>\n",
       "    </tr>\n",
       "    <tr>\n",
       "      <th>2</th>\n",
       "      <td>audio_1110.wav</td>\n",
       "      <td>1.5</td>\n",
       "    </tr>\n",
       "    <tr>\n",
       "      <th>3</th>\n",
       "      <td>audio_1024.wav</td>\n",
       "      <td>1.5</td>\n",
       "    </tr>\n",
       "    <tr>\n",
       "      <th>4</th>\n",
       "      <td>audio_538.wav</td>\n",
       "      <td>2.0</td>\n",
       "    </tr>\n",
       "  </tbody>\n",
       "</table>\n",
       "</div>"
      ],
      "text/plain": [
       "         filename  label\n",
       "0  audio_1261.wav    1.0\n",
       "1   audio_942.wav    1.5\n",
       "2  audio_1110.wav    1.5\n",
       "3  audio_1024.wav    1.5\n",
       "4   audio_538.wav    2.0"
      ]
     },
     "metadata": {},
     "output_type": "display_data"
    },
    {
     "name": "stdout",
     "output_type": "stream",
     "text": [
      "\n",
      "Test Set:\n"
     ]
    },
    {
     "data": {
      "text/html": [
       "<div>\n",
       "<style scoped>\n",
       "    .dataframe tbody tr th:only-of-type {\n",
       "        vertical-align: middle;\n",
       "    }\n",
       "\n",
       "    .dataframe tbody tr th {\n",
       "        vertical-align: top;\n",
       "    }\n",
       "\n",
       "    .dataframe thead th {\n",
       "        text-align: right;\n",
       "    }\n",
       "</style>\n",
       "<table border=\"1\" class=\"dataframe\">\n",
       "  <thead>\n",
       "    <tr style=\"text-align: right;\">\n",
       "      <th></th>\n",
       "      <th>filename</th>\n",
       "    </tr>\n",
       "  </thead>\n",
       "  <tbody>\n",
       "    <tr>\n",
       "      <th>0</th>\n",
       "      <td>audio_706.wav</td>\n",
       "    </tr>\n",
       "    <tr>\n",
       "      <th>1</th>\n",
       "      <td>audio_800.wav</td>\n",
       "    </tr>\n",
       "    <tr>\n",
       "      <th>2</th>\n",
       "      <td>audio_68.wav</td>\n",
       "    </tr>\n",
       "    <tr>\n",
       "      <th>3</th>\n",
       "      <td>audio_1267.wav</td>\n",
       "    </tr>\n",
       "    <tr>\n",
       "      <th>4</th>\n",
       "      <td>audio_683.wav</td>\n",
       "    </tr>\n",
       "  </tbody>\n",
       "</table>\n",
       "</div>"
      ],
      "text/plain": [
       "         filename\n",
       "0   audio_706.wav\n",
       "1   audio_800.wav\n",
       "2    audio_68.wav\n",
       "3  audio_1267.wav\n",
       "4   audio_683.wav"
      ]
     },
     "metadata": {},
     "output_type": "display_data"
    }
   ],
   "source": [
    "import pandas as pd\n",
    "\n",
    "# Load CSVs\n",
    "train_df = pd.read_csv(\"dataset/dataset/train.csv\")\n",
    "test_df = pd.read_csv(\"dataset/dataset/test.csv\")\n",
    "sample_submission = pd.read_csv(\"dataset/dataset/sample_submission.csv\")\n",
    "\n",
    "# Display info\n",
    "print(\"Train Set:\")\n",
    "display(train_df.head())\n",
    "\n",
    "print(\"\\nTest Set:\")\n",
    "display(test_df.head())"
   ]
  },
  {
   "cell_type": "code",
   "execution_count": 53,
   "id": "a3ebc0f0-f21b-44dd-a6e2-9c28950b3554",
   "metadata": {},
   "outputs": [
    {
     "data": {
      "image/png": "[encoded data removed]",
      "text/plain": [
       "<Figure size 640x480 with 1 Axes>"
      ]
     },
     "metadata": {},
     "output_type": "display_data"
    }
   ],
   "source": [
    "train_df['label'].hist(bins=10)\n",
    "plt.title('Grammar Score Distribution')\n",
    "plt.xlabel('Grammar Score')\n",
    "plt.ylabel('Count')\n",
    "plt.show()\n"
   ]
  },
  {
   "cell_type": "markdown",
   "id": "46be6b6a-ab3f-4ced-baad-d121604a91ae",
   "metadata": {},
   "source": [
    "# Feature Extraction Function"
   ]
  },
  {
   "cell_type": "code",
   "execution_count": 84,
   "id": "8da84ca1-90a4-470f-bcd4-563db3870ef7",
   "metadata": {},
   "outputs": [],
   "source": [
    "import librosa\n",
    "import numpy as np\n",
    "import librosa\n",
    "import numpy as np\n",
    "\n",
    "def extract_strong_features(audio_path, sr=22050, n_mfcc=30):\n",
    "    audio, sr = librosa.load(audio_path, sr=sr)\n",
    "\n",
    "    # MFCCs\n",
    "    mfccs = librosa.feature.mfcc(y=audio, sr=sr, n_mfcc=n_mfcc)\n",
    "    delta1 = librosa.feature.delta(mfccs)\n",
    "    delta2 = librosa.feature.delta(mfccs, order=2)\n",
    "\n",
    "    # Pitch\n",
    "    pitch, _ = librosa.piptrack(y=audio, sr=sr)\n",
    "    pitches = pitch[pitch > 0]\n",
    "\n",
    "    # Core spectral features\n",
    "    zcr = librosa.feature.zero_crossing_rate(y=audio)\n",
    "    rmse = librosa.feature.rms(y=audio)\n",
    "    centroid = librosa.feature.spectral_centroid(y=audio, sr=sr)\n",
    "    rolloff = librosa.feature.spectral_rolloff(y=audio, sr=sr)\n",
    "    bandwidth = librosa.feature.spectral_bandwidth(y=audio, sr=sr)\n",
    "    chroma = librosa.feature.chroma_stft(y=audio, sr=sr)\n",
    "\n",
    "    features = np.concatenate([\n",
    "        np.mean(mfccs, axis=1),\n",
    "        np.std(mfccs, axis=1),\n",
    "        np.mean(delta1, axis=1),\n",
    "        np.mean(delta2, axis=1),\n",
    "        [np.mean(zcr), np.std(zcr)],\n",
    "        [np.mean(rmse), np.std(rmse)],\n",
    "        [np.mean(centroid), np.std(centroid)],\n",
    "        [np.mean(rolloff), np.std(rolloff)],\n",
    "        [np.mean(bandwidth), np.std(bandwidth)],\n",
    "        np.mean(chroma, axis=1),\n",
    "        [np.mean(pitches) if pitches.size > 0 else 0,\n",
    "         np.std(pitches) if pitches.size > 0 else 0]\n",
    "    ])\n",
    "    return features\n",
    "\n"
   ]
  },
  {
   "cell_type": "markdown",
   "id": "977796a2-0255-4f83-9f60-95f866038b8f",
   "metadata": {},
   "source": [
    "# Process & Save the features"
   ]
  },
  {
   "cell_type": "code",
   "execution_count": 85,
   "id": "f8d7e9a6-09c3-4f4e-8fb2-068bd4ae0de9",
   "metadata": {},
   "outputs": [
    {
     "name": "stderr",
     "output_type": "stream",
     "text": [
      "Extracting features: 100%|███████████████████████████████████████████████████████████| 444/444 [06:52<00:00,  1.08it/s]\n"
     ]
    }
   ],
   "source": [
    "from tqdm import tqdm\n",
    "\n",
    "X, y = [], []\n",
    "\n",
    "for index, row in tqdm(train_df.iterrows(), total=len(train_df), desc=\"Extracting features\"):\n",
    "    audio_path = f\"dataset/dataset/audios_train/{row['filename']}\"\n",
    "    feats = extract_features(audio_path)\n",
    "    X.append(feats)\n",
    "    y.append(row['label'])\n",
    "\n",
    "X = np.array(X)\n",
    "y = np.array(y)\n"
   ]
  },
  {
   "cell_type": "markdown",
   "id": "cf0fe3b4-f6cc-42c4-ac3f-e14a844f3b9e",
   "metadata": {},
   "source": [
    "# Implementing the XGBRegressor"
   ]
  },
  {
   "cell_type": "code",
   "execution_count": 91,
   "id": "84845aa8-1876-4873-be4a-cfc4051980bb",
   "metadata": {},
   "outputs": [
    {
     "name": "stdout",
     "output_type": "stream",
     "text": [
      "Requirement already satisfied: pip in c:\\users\\vedanshi\\grammar-env\\lib\\site-packages (21.2.4)\n",
      "Collecting pip\n",
      "  Downloading pip-25.0.1-py3-none-any.whl (1.8 MB)\n",
      "Installing collected packages: pip\n",
      "  Attempting uninstall: pip\n",
      "    Found existing installation: pip 21.2.4\n",
      "    Uninstalling pip-21.2.4:\n",
      "      Successfully uninstalled pip-21.2.4\n"
     ]
    },
    {
     "name": "stderr",
     "output_type": "stream",
     "text": [
      "ERROR: Could not install packages due to an OSError: [WinError 5] Access is denied: 'C:\\\\Users\\\\VEDANSHI\\\\AppData\\\\Local\\\\Temp\\\\pip-uninstall-5lhc82_b\\\\pip.exe'\n",
      "Check the permissions.\n",
      "\n"
     ]
    }
   ],
   "source": [
    "!pip install --upgrade pip\n",
    "\n"
   ]
  },
  {
   "cell_type": "code",
   "execution_count": 96,
   "id": "20190e04-3cd0-499d-9d40-11d58e3e3cdd",
   "metadata": {},
   "outputs": [
    {
     "name": "stdout",
     "output_type": "stream",
     "text": [
      "Requirement already satisfied: xgboost in c:\\users\\vedanshi\\grammar-env\\lib\\site-packages (2.1.4)\n",
      "Requirement already satisfied: numpy in c:\\users\\vedanshi\\grammar-env\\lib\\site-packages (from xgboost) (2.0.2)\n",
      "Requirement already satisfied: scipy in c:\\users\\vedanshi\\grammar-env\\lib\\site-packages (from xgboost) (1.13.1)\n"
     ]
    }
   ],
   "source": [
    "!pip install --upgrade xgboost\n"
   ]
  },
  {
   "cell_type": "code",
   "execution_count": 100,
   "id": "9b8d941e-0fa9-4829-9f42-10cabf3edfab",
   "metadata": {},
   "outputs": [
    {
     "name": "stdout",
     "output_type": "stream",
     "text": [
      "XGBoost Pearson Correlation: 0.6212\n",
      "RMSE: 0.9191\n",
      "MAE: 0.7168\n"
     ]
    }
   ],
   "source": [
    "\n",
    "from xgboost import XGBRegressor\n",
    "\n",
    "xgb_model = XGBRegressor(\n",
    "    n_estimators=1000,\n",
    "    learning_rate=0.03,\n",
    "    max_depth=8,\n",
    "    subsample=0.8,\n",
    "    colsample_bytree=0.8,\n",
    "    gamma=0,\n",
    "    reg_alpha=0.5,\n",
    "    reg_lambda=0.5,\n",
    "    random_state=42\n",
    ")\n",
    "xgb_model.fit(X_train, y_train)\n",
    "\n",
    "y_pred = xgb_model.predict(X_val)\n",
    "\n",
    "\n",
    "corr, _ = pearsonr(y_val, y_pred)\n",
    "rmse = np.sqrt(mean_squared_error(y_val, y_pred))\n",
    "mae = mean_absolute_error(y_val, y_pred)\n",
    "\n",
    "print(f\"XGBoost Pearson Correlation: {corr:.4f}\")\n",
    "print(f\"RMSE: {rmse:.4f}\")\n",
    "print(f\"MAE: {mae:.4f}\") \n"
   ]
  },
  {
   "cell_type": "markdown",
   "id": "ec9a2d65-e007-41bc-b3fe-a148fcec9740",
   "metadata": {},
   "source": [
    "# Plotting the Actual values"
   ]
  },
  {
   "cell_type": "code",
   "execution_count": 80,
   "id": "1db96904-e74b-43ed-ade2-592410481333",
   "metadata": {},
   "outputs": [
    {
     "data": {
      "image/png": "[encoded data removed]",
      "text/plain": [
       "<Figure size 700x600 with 1 Axes>"
      ]
     },
     "metadata": {},
     "output_type": "display_data"
    }
   ],
   "source": [
    "plt.figure(figsize=(7,6))\n",
    "plt.scatter(y_val, y_pred, alpha=0.7, c='blue', label='Predictions')\n",
    "plt.plot([0,5],[0,5],'r--', label='Ideal Prediction')\n",
    "plt.xlabel('Actual Scores')\n",
    "plt.ylabel('Predicted Scores')\n",
    "plt.title('Actual vs Predicted Grammar Scores')\n",
    "plt.legend()\n",
    "plt.grid(True)\n",
    "plt.show()\n"
   ]
  },
  {
   "cell_type": "markdown",
   "id": "0f051cc9-5530-4c2c-9b31-f754f65b384e",
   "metadata": {},
   "source": [
    "# Process and save the test features"
   ]
  },
  {
   "cell_type": "code",
   "execution_count": 81,
   "id": "9b05565e-484c-4fc5-9b2d-e19c4e58f491",
   "metadata": {},
   "outputs": [],
   "source": [
    "\n",
    "from tqdm import tqdm\n",
    "\n",
    "test_features = []\n",
    "\n",
    "for index, row in tqdm(test_df.iterrows(), total=len(test_df), desc=\"Extracting test features\"):\n",
    "    audio_path = f\"dataset/dataset/audios_test/{row['filename']}\"\n",
    "    feats = extract_features(audio_path)\n",
    "    test_features.append(feats)\n",
    "\n",
    "X_test = np.array(test_features)\n",
    "predictions = model.predict(X_test)\n",
    "\n"
   ]
  },
  {
   "cell_type": "code",
   "execution_count": 82,
   "id": "61411ba4-adfa-4fa6-8cb8-4648cbdd041f",
   "metadata": {},
   "outputs": [],
   "source": [
    "submission = pd.read_csv('dataset/dataset/sample_submission.csv')\n",
    "submission['label'] = predictions\n",
    "submission.to_csv('submission.csv', index=False)"
   ]
  },
  {
   "cell_type": "code",
   "execution_count": 83,
   "id": "792929e9-fbef-4965-a1a5-1d90a1c429cc",
   "metadata": {},
   "outputs": [
    {
     "name": "stdout",
     "output_type": "stream",
     "text": [
      "C:\\Users\\VEDANSHI\\submission.csv\n"
     ]
    }
   ],
   "source": [
    "import os\n",
    "print(os.path.abspath('submission.csv'))\n"
   ]
  },
  {
   "cell_type": "code",
   "execution_count": null,
   "id": "14487e9e-0995-4f83-a39b-7ed1d55ef851",
   "metadata": {},
   "outputs": [],
   "source": []
  },
  {
   "cell_type": "code",
   "execution_count": null,
   "id": "0698c605-f3c0-4283-9a42-94518c640b92",
   "metadata": {},
   "outputs": [],
   "source": []
  }
 ],
 "metadata": {
  "kernelspec": {
   "display_name": "Python 3 (ipykernel)",
   "language": "python",
   "name": "python3"
  },
  "language_info": {
   "codemirror_mode": {
    "name": "ipython",
    "version": 3
   },
   "file_extension": ".py",
   "mimetype": "text/x-python",
   "name": "python",
   "nbconvert_exporter": "python",
   "pygments_lexer": "ipython3",
   "version": "3.9.10"
  }
 },
 "nbformat": 4,
 "nbformat_minor": 5
}
